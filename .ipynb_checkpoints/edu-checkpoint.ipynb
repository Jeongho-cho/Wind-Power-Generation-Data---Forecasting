{
 "cells": [
  {
   "cell_type": "code",
   "execution_count": 25,
   "id": "6f7bed33",
   "metadata": {},
   "outputs": [],
   "source": [
    "import numpy as np # 벡터, 행렬 등 수치 연산을 수행하는 선형대수 라이브러리\n",
    "import pandas as pd # 시리즈, 데이터프레임 포맷 데이터 처리를 위한 라이브러리\n",
    "import warnings; warnings.filterwarnings(action='ignore') # 경고 메시지 무시\n",
    "import matplotlib.pyplot as plt # 데이터 시각화 라이브러리\n",
    "import pickle # 객체 입출력을 위한 라이브러리\n",
    "from sklearn.model_selection import train_test_split # 훈련 데이터, 테스트 데이터 분리\n",
    "from sklearn.preprocessing import StandardScaler # 정규화\n",
    "from sklearn.ensemble import RandomForestClassifier as RFC # 랜덤포레스트 분류 알고리즘\n",
    "from sklearn.tree import DecisionTreeClassifier as DTC # 의사결정나무 분류 알고리즘\n",
    "from sklearn.ensemble import GradientBoostingClassifier as GBC # 그래디언트 부스팅 분류 알고리즘\n",
    "# 모델 평가를 위한 metrics\n",
    "from sklearn.metrics import accuracy_score, precision_score, recall_score, f1_score, plot_confusion_matrix\n",
    "from sklearn.metrics import mean_squared_error\n",
    "from sklearn.ensemble import RandomForestRegressor as RFR"
   ]
  },
  {
   "cell_type": "code",
   "execution_count": 3,
   "id": "adc37958",
   "metadata": {},
   "outputs": [
    {
     "data": {
      "text/html": [
       "<div>\n",
       "<style scoped>\n",
       "    .dataframe tbody tr th:only-of-type {\n",
       "        vertical-align: middle;\n",
       "    }\n",
       "\n",
       "    .dataframe tbody tr th {\n",
       "        vertical-align: top;\n",
       "    }\n",
       "\n",
       "    .dataframe thead th {\n",
       "        text-align: right;\n",
       "    }\n",
       "</style>\n",
       "<table border=\"1\" class=\"dataframe\">\n",
       "  <thead>\n",
       "    <tr style=\"text-align: right;\">\n",
       "      <th></th>\n",
       "      <th>Time</th>\n",
       "      <th>temperature_2m</th>\n",
       "      <th>relativehumidity_2m</th>\n",
       "      <th>dewpoint_2m</th>\n",
       "      <th>windspeed_10m</th>\n",
       "      <th>windspeed_100m</th>\n",
       "      <th>winddirection_10m</th>\n",
       "      <th>winddirection_100m</th>\n",
       "      <th>windgusts_10m</th>\n",
       "      <th>Power</th>\n",
       "    </tr>\n",
       "  </thead>\n",
       "  <tbody>\n",
       "    <tr>\n",
       "      <th>0</th>\n",
       "      <td>2017-01-02 00:00:00</td>\n",
       "      <td>28.5</td>\n",
       "      <td>85</td>\n",
       "      <td>24.5</td>\n",
       "      <td>1.44</td>\n",
       "      <td>1.26</td>\n",
       "      <td>146</td>\n",
       "      <td>162</td>\n",
       "      <td>1.4</td>\n",
       "      <td>0.1635</td>\n",
       "    </tr>\n",
       "    <tr>\n",
       "      <th>1</th>\n",
       "      <td>2017-01-02 01:00:00</td>\n",
       "      <td>28.4</td>\n",
       "      <td>86</td>\n",
       "      <td>24.7</td>\n",
       "      <td>2.06</td>\n",
       "      <td>3.99</td>\n",
       "      <td>151</td>\n",
       "      <td>158</td>\n",
       "      <td>4.4</td>\n",
       "      <td>0.1424</td>\n",
       "    </tr>\n",
       "    <tr>\n",
       "      <th>2</th>\n",
       "      <td>2017-01-02 02:00:00</td>\n",
       "      <td>26.8</td>\n",
       "      <td>91</td>\n",
       "      <td>24.5</td>\n",
       "      <td>1.30</td>\n",
       "      <td>2.78</td>\n",
       "      <td>148</td>\n",
       "      <td>150</td>\n",
       "      <td>3.2</td>\n",
       "      <td>0.1214</td>\n",
       "    </tr>\n",
       "    <tr>\n",
       "      <th>3</th>\n",
       "      <td>2017-01-02 03:00:00</td>\n",
       "      <td>27.4</td>\n",
       "      <td>88</td>\n",
       "      <td>24.3</td>\n",
       "      <td>1.30</td>\n",
       "      <td>2.69</td>\n",
       "      <td>58</td>\n",
       "      <td>105</td>\n",
       "      <td>1.6</td>\n",
       "      <td>0.1003</td>\n",
       "    </tr>\n",
       "    <tr>\n",
       "      <th>4</th>\n",
       "      <td>2017-01-02 04:00:00</td>\n",
       "      <td>27.3</td>\n",
       "      <td>88</td>\n",
       "      <td>24.1</td>\n",
       "      <td>2.47</td>\n",
       "      <td>4.43</td>\n",
       "      <td>58</td>\n",
       "      <td>84</td>\n",
       "      <td>4.0</td>\n",
       "      <td>0.0793</td>\n",
       "    </tr>\n",
       "  </tbody>\n",
       "</table>\n",
       "</div>"
      ],
      "text/plain": [
       "                  Time  temperature_2m  relativehumidity_2m  dewpoint_2m  \\\n",
       "0  2017-01-02 00:00:00            28.5                   85         24.5   \n",
       "1  2017-01-02 01:00:00            28.4                   86         24.7   \n",
       "2  2017-01-02 02:00:00            26.8                   91         24.5   \n",
       "3  2017-01-02 03:00:00            27.4                   88         24.3   \n",
       "4  2017-01-02 04:00:00            27.3                   88         24.1   \n",
       "\n",
       "   windspeed_10m  windspeed_100m  winddirection_10m  winddirection_100m  \\\n",
       "0           1.44            1.26                146                 162   \n",
       "1           2.06            3.99                151                 158   \n",
       "2           1.30            2.78                148                 150   \n",
       "3           1.30            2.69                 58                 105   \n",
       "4           2.47            4.43                 58                  84   \n",
       "\n",
       "   windgusts_10m   Power  \n",
       "0            1.4  0.1635  \n",
       "1            4.4  0.1424  \n",
       "2            3.2  0.1214  \n",
       "3            1.6  0.1003  \n",
       "4            4.0  0.0793  "
      ]
     },
     "execution_count": 3,
     "metadata": {},
     "output_type": "execute_result"
    }
   ],
   "source": [
    "# 파일불러오기\n",
    "df = pd.read_csv('./Location1.csv')\n",
    "df.head()"
   ]
  },
  {
   "cell_type": "code",
   "execution_count": 4,
   "id": "8794b821",
   "metadata": {},
   "outputs": [],
   "source": [
    "#화씨온도를 섭씨온도로 변환\n",
    "df['temperature_2m'] = round((df['temperature_2m'] - 32) * 5/9,2)\n",
    "df['dewpoint_2m'] = round((df['dewpoint_2m'] - 32) * 5/9,2)"
   ]
  },
  {
   "cell_type": "code",
   "execution_count": 5,
   "id": "f9a3f05a",
   "metadata": {},
   "outputs": [],
   "source": [
    "#시간에 따른 발전량 변화 분석\n",
    "#'Time' 컬럼을 기반으로 시계열 그래프를 생성하여 시간에 따른 발전량의 변화를 시각적으로 확인하세요. 발전량의 일일, 주간, 월간 패턴 등을 살펴보세요.\n",
    "# 일간\n",
    "df_day = df.copy()\n",
    "df_day['Time'] = df_day['Time'].str[:10]\n",
    "#월간\n",
    "df_month = df.copy()\n",
    "df_month['Time'] = df_month['Time'].str[:7]\n",
    "#연간\n",
    "df_year = df.copy()\n",
    "df_year['Time'] = df_year['Time'].str[:4]"
   ]
  },
  {
   "cell_type": "code",
   "execution_count": 8,
   "id": "cc9e8c86",
   "metadata": {
    "scrolled": true
   },
   "outputs": [
    {
     "data": {
      "text/plain": [
       "Index(['Time', 'temperature_2m', 'relativehumidity_2m', 'dewpoint_2m',\n",
       "       'windspeed_10m', 'windspeed_100m', 'winddirection_10m',\n",
       "       'winddirection_100m', 'windgusts_10m', 'Power'],\n",
       "      dtype='object')"
      ]
     },
     "execution_count": 8,
     "metadata": {},
     "output_type": "execute_result"
    }
   ],
   "source": [
    "df_day.columns"
   ]
  },
  {
   "cell_type": "code",
   "execution_count": 6,
   "id": "a44b514d",
   "metadata": {},
   "outputs": [],
   "source": [
    "df_dm =df_day.groupby(['Time']).agg('mean').reset_index()"
   ]
  },
  {
   "cell_type": "code",
   "execution_count": 7,
   "id": "801c4654",
   "metadata": {},
   "outputs": [
    {
     "data": {
      "text/html": [
       "<div>\n",
       "<style scoped>\n",
       "    .dataframe tbody tr th:only-of-type {\n",
       "        vertical-align: middle;\n",
       "    }\n",
       "\n",
       "    .dataframe tbody tr th {\n",
       "        vertical-align: top;\n",
       "    }\n",
       "\n",
       "    .dataframe thead th {\n",
       "        text-align: right;\n",
       "    }\n",
       "</style>\n",
       "<table border=\"1\" class=\"dataframe\">\n",
       "  <thead>\n",
       "    <tr style=\"text-align: right;\">\n",
       "      <th></th>\n",
       "      <th>Time</th>\n",
       "      <th>temperature_2m</th>\n",
       "      <th>relativehumidity_2m</th>\n",
       "      <th>dewpoint_2m</th>\n",
       "      <th>windspeed_10m</th>\n",
       "      <th>windspeed_100m</th>\n",
       "      <th>winddirection_10m</th>\n",
       "      <th>winddirection_100m</th>\n",
       "      <th>windgusts_10m</th>\n",
       "      <th>Power</th>\n",
       "    </tr>\n",
       "  </thead>\n",
       "  <tbody>\n",
       "    <tr>\n",
       "      <th>0</th>\n",
       "      <td>2017-01-02</td>\n",
       "      <td>0.264167</td>\n",
       "      <td>86.041667</td>\n",
       "      <td>-1.860833</td>\n",
       "      <td>2.635417</td>\n",
       "      <td>4.937083</td>\n",
       "      <td>91.791667</td>\n",
       "      <td>102.125000</td>\n",
       "      <td>5.391667</td>\n",
       "      <td>0.194150</td>\n",
       "    </tr>\n",
       "    <tr>\n",
       "      <th>1</th>\n",
       "      <td>2017-01-03</td>\n",
       "      <td>2.688750</td>\n",
       "      <td>98.833333</td>\n",
       "      <td>2.505833</td>\n",
       "      <td>2.413333</td>\n",
       "      <td>4.348333</td>\n",
       "      <td>160.250000</td>\n",
       "      <td>171.833333</td>\n",
       "      <td>5.033333</td>\n",
       "      <td>0.230358</td>\n",
       "    </tr>\n",
       "    <tr>\n",
       "      <th>2</th>\n",
       "      <td>2017-01-04</td>\n",
       "      <td>-6.678750</td>\n",
       "      <td>63.208333</td>\n",
       "      <td>-12.794167</td>\n",
       "      <td>7.679167</td>\n",
       "      <td>12.374583</td>\n",
       "      <td>270.125000</td>\n",
       "      <td>272.000000</td>\n",
       "      <td>15.987500</td>\n",
       "      <td>0.868033</td>\n",
       "    </tr>\n",
       "    <tr>\n",
       "      <th>3</th>\n",
       "      <td>2017-01-05</td>\n",
       "      <td>-11.977083</td>\n",
       "      <td>58.125000</td>\n",
       "      <td>-18.619583</td>\n",
       "      <td>4.898333</td>\n",
       "      <td>8.497917</td>\n",
       "      <td>254.750000</td>\n",
       "      <td>259.208333</td>\n",
       "      <td>10.387500</td>\n",
       "      <td>0.698042</td>\n",
       "    </tr>\n",
       "    <tr>\n",
       "      <th>4</th>\n",
       "      <td>2017-01-06</td>\n",
       "      <td>-14.650417</td>\n",
       "      <td>62.708333</td>\n",
       "      <td>-20.323333</td>\n",
       "      <td>3.430000</td>\n",
       "      <td>6.977917</td>\n",
       "      <td>248.041667</td>\n",
       "      <td>255.291667</td>\n",
       "      <td>6.762500</td>\n",
       "      <td>0.322771</td>\n",
       "    </tr>\n",
       "  </tbody>\n",
       "</table>\n",
       "</div>"
      ],
      "text/plain": [
       "        Time  temperature_2m  relativehumidity_2m  dewpoint_2m  windspeed_10m  \\\n",
       "0 2017-01-02        0.264167            86.041667    -1.860833       2.635417   \n",
       "1 2017-01-03        2.688750            98.833333     2.505833       2.413333   \n",
       "2 2017-01-04       -6.678750            63.208333   -12.794167       7.679167   \n",
       "3 2017-01-05      -11.977083            58.125000   -18.619583       4.898333   \n",
       "4 2017-01-06      -14.650417            62.708333   -20.323333       3.430000   \n",
       "\n",
       "   windspeed_100m  winddirection_10m  winddirection_100m  windgusts_10m  \\\n",
       "0        4.937083          91.791667          102.125000       5.391667   \n",
       "1        4.348333         160.250000          171.833333       5.033333   \n",
       "2       12.374583         270.125000          272.000000      15.987500   \n",
       "3        8.497917         254.750000          259.208333      10.387500   \n",
       "4        6.977917         248.041667          255.291667       6.762500   \n",
       "\n",
       "      Power  \n",
       "0  0.194150  \n",
       "1  0.230358  \n",
       "2  0.868033  \n",
       "3  0.698042  \n",
       "4  0.322771  "
      ]
     },
     "execution_count": 7,
     "metadata": {},
     "output_type": "execute_result"
    }
   ],
   "source": [
    "df_dm['Time'] = pd.to_datetime(df_dm['Time'])\n",
    "df_dm.head()"
   ]
  },
  {
   "cell_type": "code",
   "execution_count": 8,
   "id": "31675fa9",
   "metadata": {},
   "outputs": [],
   "source": [
    "df_dm = df_dm.drop('Time',axis =1)"
   ]
  },
  {
   "cell_type": "code",
   "execution_count": 11,
   "id": "f4891fef",
   "metadata": {},
   "outputs": [],
   "source": [
    "scaler = StandardScaler()\n",
    "x = df_dm[df_dm.columns.difference(['Power'])]\n",
    "y = df_dm['Power']\n",
    "x_scaled = scaler.fit_transform(x)"
   ]
  },
  {
   "cell_type": "code",
   "execution_count": 12,
   "id": "78b34212",
   "metadata": {},
   "outputs": [],
   "source": [
    "x_train,x_test,y_train,y_test = train_test_split(x_scaled,y, test_size=0.3,random_state=123)"
   ]
  },
  {
   "cell_type": "code",
   "execution_count": 29,
   "id": "b0d19cde",
   "metadata": {},
   "outputs": [
    {
     "data": {
      "text/plain": [
       "0.278508    0.001566\n",
       "0.537583    0.001566\n",
       "0.585658    0.001566\n",
       "0.591621    0.000783\n",
       "0.216625    0.000783\n",
       "              ...   \n",
       "0.051838    0.000783\n",
       "0.780863    0.000783\n",
       "0.246225    0.000783\n",
       "0.640250    0.000783\n",
       "0.076400    0.000783\n",
       "Name: Power, Length: 1274, dtype: float64"
      ]
     },
     "execution_count": 29,
     "metadata": {},
     "output_type": "execute_result"
    }
   ],
   "source": [
    "y_train.value_counts(normalize=True)"
   ]
  },
  {
   "cell_type": "code",
   "execution_count": 35,
   "id": "a892e49e",
   "metadata": {},
   "outputs": [],
   "source": [
    "def optimi_estimator(algorithm, algorithm_name,x_train,y_train, x_test,y_test,n_estimator_min,n_estimator_max):\n",
    "    train_score =[]; test_score =[]\n",
    "    para_n_tree =[n_tree*5 for n_tree in range(n_estimator_min,n_estimator_max)]\n",
    "    \n",
    "    for v_n_estimators in para_n_tree:\n",
    "        model = algorithm(n_estimators = v_n_estimators,random_state =1234)\n",
    "        model.fit(x_train,y_train)\n",
    "        train_score.append(model.score(x_train,y_train))\n",
    "        test_score.append(model.score(x_test,y_test))\n",
    "    \n",
    "    df_score_n = pd.DataFrame({'n_estimators': para_n_tree,'TrainScore': train_score,'TestScore': test_score})\n",
    "    optimi_visualization(algorithm_name, para_n_tree, train_score, test_score, \"The number of estimator\")\n",
    "    print(round(df_score_n,4))\n",
    "    "
   ]
  },
  {
   "cell_type": "code",
   "execution_count": 40,
   "id": "38987ea1",
   "metadata": {},
   "outputs": [],
   "source": [
    "def optimi_maxdepth(algorithm,algorithm_name,x_train,y_train,x_test,y_test,depth_min,depth_max,n_estimator):\n",
    "    train_score =[]; test_score=[]\n",
    "    para_depth = [depth for depth in range(depth_min, depth_max)]\n",
    "    \n",
    "    for v_max_depth in para_depth:\n",
    "        if algorithm == DTC:\n",
    "            model = algorithm(max_depth = v_max_depth,\n",
    "                             random_state = 1234)\n",
    "        else:\n",
    "            model = algorithm(max_depth = v_max_depth,\n",
    "                             n_estimators = n_estimator,\n",
    "                             random_state = 1234)\n",
    "        model.fit(x_train,y_train)\n",
    "        train_score.append(model.score(x_train,y_train))\n",
    "        test_score.append(model.score(x_test,y_test))\n",
    "        \n",
    "        df_score_n = pd.DataFrame({'depth': para_depth,'TrainScore': train_score,'TestScore':test_score})\n",
    "        #df_score_n = pd.DataFrame({'depth': para_depth, 'TrainScore': train_score, 'TestScore': test_score})\n",
    "        optimi_visualization(algorithm_name,para_depth,train_score,test_score,'The number of depth')\n",
    "        print(round(df_score_n,4))\n",
    "        \n",
    "        "
   ]
  },
  {
   "cell_type": "code",
   "execution_count": 41,
   "id": "b9d9048d",
   "metadata": {},
   "outputs": [],
   "source": [
    "def optimi_maxdepth (algorithm, algorithm_name, x_train, y_train, x_test, y_test, depth_min, depth_max, n_estimator):\n",
    "    train_score = []; test_score = []\n",
    "    para_depth = [depth for depth in range(depth_min, depth_max)]\n",
    "\n",
    "    for v_max_depth in para_depth:\n",
    "        # 의사결정나무 모델의 경우 트리 개수를 따로 설정하지 않기 때문에 RFC, GBC와 분리하여 모델링\n",
    "        if algorithm == DTC:\n",
    "            model = algorithm(max_depth = v_max_depth,\n",
    "                              random_state=1234)\n",
    "        else:\n",
    "            model = algorithm(max_depth = v_max_depth,\n",
    "                              n_estimators = n_estimator,\n",
    "                              random_state=1234)\n",
    "        \n",
    "        model.fit(x_train, y_train)\n",
    "        train_score.append(model.score(x_train, y_train))\n",
    "        test_score.append(model.score(x_test, y_test))\n",
    "\n",
    "    # 최대 깊이에 따른 모델 성능 저장\n",
    "    df_score_n = pd.DataFrame({'depth': para_depth, 'TrainScore': train_score, 'TestScore': test_score})\n",
    "    # 최대 깊이에 따른 모델 성능 추이 시각화 함수 호출\n",
    "    optimi_visualization(algorithm_name, para_depth, train_score, test_score, \"The number of depth\")\n",
    "    print(round(df_score_n, 4))"
   ]
  },
  {
   "cell_type": "code",
   "execution_count": 42,
   "id": "4580cf73",
   "metadata": {},
   "outputs": [],
   "source": [
    "def optimi_minsplit(algorithm,algorithm_name,x_train,y_train,x_test,y_test,n_split_min,n_split_max,n_estimator,n_depth):\n",
    "    train_score =[]; test_score=[]\n",
    "    para_split = [n_split*2 for n_split in range(n_split_min,n_split_max)]\n",
    "    \n",
    "    for v_min_samples_split in para_split:\n",
    "        if algorithm == DTC:\n",
    "            model = algorithm(min_samples_split = v_min_samples_split,\n",
    "                              max_depth = n_depth,\n",
    "                             random_state = 1234)\n",
    "        else:\n",
    "            model = algorithm(min_samples_split = v_min_samples_split,\n",
    "                             n_estimators = n_estimator,\n",
    "                              max_depth = n_depth,\n",
    "                             random_state = 1234)\n",
    "        model.fit(x_train,y_train)\n",
    "        train_score.append(model.score(x_train,y_train))\n",
    "        test_score.append(model.score(x_test,y_test))\n",
    "        \n",
    "    df_score_n = pd.DataFrame({'min_samples_split': para_split, 'TrainScore': train_score, 'TestScore': test_score})\n",
    "    optimi_visualization(algorithm_name, para_split, train_score, test_score, \"The minimum number of samples required to split an internal node\")\n",
    "    print(round(df_score_n,4))\n",
    "   \n",
    "        \n",
    "        "
   ]
  },
  {
   "cell_type": "code",
   "execution_count": 51,
   "id": "1a784bbb",
   "metadata": {},
   "outputs": [],
   "source": [
    "def optimi_minleaf(algorithm,algorithm_name,x_train,y_train,x_test,y_test,n_leaf_min,n_leaf_max,n_estimator,n_depth,n_split):\n",
    "    train_score =[]; test_score=[]\n",
    "    para_leaf = [n_leaf*2 for n_leaf in range(n_leaf_min,n_leaf_max)]\n",
    "    \n",
    "    for v_min_samples_leaf in para_leaf:\n",
    "        if algorithm == DTC:\n",
    "            model = algorithm(min_samples_leaf = v_min_samples_leaf,\n",
    "                             max_depth = n_depth,\n",
    "                             min_samples_split = n_split,\n",
    "                             random_state = 1234)\n",
    "        else:\n",
    "            model = algorithm(min_samples_leaf = v_min_samples_leaf,\n",
    "                              n_estimators = n_estimator,\n",
    "                             max_depth = n_depth,\n",
    "                             min_samples_split = n_split,\n",
    "                             random_state = 1234)\n",
    "        model.fit(x_train,y_train)\n",
    "        train_score.append(model.score(x_train,y_train))\n",
    "        test_score.append(model.score(x_test,y_test))\n",
    "        \n",
    "    df_score_n = pd.DataFrame({'min_samples_leaf': para_leaf,'TrainScore': train_score,'TestScore':test_score})\n",
    "    optimi_visualization(algorithm_name,para_leaf,train_score,test_score,' \"The minimum number leaf\"')\n",
    "    print(round(df_score_n,4))\n",
    "        \n",
    "        "
   ]
  },
  {
   "cell_type": "code",
   "execution_count": 44,
   "id": "4fcef1a8",
   "metadata": {},
   "outputs": [],
   "source": [
    "def model_final(algorithm,algorithm_name,x_train,y_train,x_test,y_test,n_estimator,n_depth,n_split,n_leaf):\n",
    "    if algorithm == DTC:\n",
    "        model =algorithm(random_state = 1234,\n",
    "                        min_samples_leaf = n_leaf,\n",
    "                        min_samples_split = n_split,\n",
    "                        max_depth = n_depth)\n",
    "    else :\n",
    "        model = algorithm(random_state= 1234,\n",
    "                        min_samples_leaf = n_leaf,\n",
    "                        min_samples_split = n_split,\n",
    "                        n_estimators = n_estimator,\n",
    "                        max_depth = n_depth)\n",
    "    model.fit(x_train,y_train)\n",
    "    \n",
    "    train_acc = model.score(x_train,y_train)\n",
    "    test_acc = model.score(x_test,y_test)\n",
    "    y_pred = model.predict(x_test)    \n",
    "    mse = mean_squared_error(y_test, y_pred)\n",
    "    print(f'Mean Squared Error: {mse:.3f}')\n",
    "    \n",
    "        \n",
    "    df_score_n = pd.DataFrame({'y_test': y_test,'y_pred': y_pred})\n",
    "    print(round(df_score_n,4))"
   ]
  },
  {
   "cell_type": "code",
   "execution_count": 40,
   "id": "ea53b2a6",
   "metadata": {},
   "outputs": [],
   "source": [
    "from sklearn.ensemble import RandomForestRegressor as RFR # 랜덤포레스트 분류 알고리즘"
   ]
  },
  {
   "cell_type": "code",
   "execution_count": 27,
   "id": "6f62f669",
   "metadata": {},
   "outputs": [],
   "source": [
    "algorithm = RFR\n",
    "algorithm_name = 'rfr'"
   ]
  },
  {
   "cell_type": "code",
   "execution_count": 65,
   "id": "0a23e42b",
   "metadata": {},
   "outputs": [],
   "source": [
    "def optimi_visualization(algorithm_name, x_values, train_score, test_score, xlabel):\n",
    "    # 하이퍼파라미터 조정에 따른 학습 데이터셋 기반 모델 성능 추이 시각화\n",
    "    plt.plot(x_values, train_score, linestyle = '-', label = 'train score')\n",
    "    # 하이퍼파라미터 조정에 따른 테스트 데이터셋 기반 모델 성능 추이 시각화\n",
    "    plt.plot(x_values, test_score, linestyle = '--', label = 'test score')\n",
    "    plt.ylabel('Accuracy(%)') # y축 라벨\n",
    "    plt.xlabel(xlabel) # x축 라벨\n",
    "    plt.legend() # 범례표시\n",
    "    plt.gcf().set_size_inches(8,3)\n",
    "    #plt.savefig('./' + algorithm_name + '_' + filename + '.png') # 시각화한 그래프는 로컬에 저장"
   ]
  },
  {
   "cell_type": "code",
   "execution_count": 38,
   "id": "62ec5c72",
   "metadata": {},
   "outputs": [],
   "source": [
    "def modeling_uncustomized (algorithm, x_train, y_train, x_test, y_test):\n",
    "    # 하이퍼파라미터 조정 없이 모델 학습\n",
    "    uncustomized = algorithm(random_state=1234)\n",
    "    uncustomized.fit(x_train, y_train)\n",
    "    # Train Data 설명력\n",
    "    train_score_before = uncustomized.mean_squared_error(x_train, y_train).round(3)\n",
    "    print(f\"학습 데이터셋 정확도: {train_score_before}\")\n",
    "    # Test Data 설명력\n",
    "    test_score_before = uncustomized.mean_squared_error(x_test, y_test).round(3)\n",
    "    print(f\"테스트 데이터셋 정확도: {test_score_before}\")\n",
    "    return train_score_before, test_score_before"
   ]
  },
  {
   "cell_type": "code",
   "execution_count": 66,
   "id": "e87062eb",
   "metadata": {},
   "outputs": [
    {
     "name": "stdout",
     "output_type": "stream",
     "text": [
      "    n_estimators  TrainScore  TestScore\n",
      "0              5      0.9375     0.7401\n",
      "1             10      0.9593     0.7683\n",
      "2             15      0.9627     0.7775\n",
      "3             20      0.9644     0.7801\n",
      "4             25      0.9662     0.7838\n",
      "5             30      0.9674     0.7847\n",
      "6             35      0.9678     0.7872\n",
      "7             40      0.9681     0.7890\n",
      "8             45      0.9686     0.7880\n",
      "9             50      0.9687     0.7892\n",
      "10            55      0.9690     0.7889\n",
      "11            60      0.9693     0.7888\n",
      "12            65      0.9697     0.7898\n",
      "13            70      0.9700     0.7896\n",
      "14            75      0.9701     0.7884\n",
      "15            80      0.9702     0.7880\n",
      "16            85      0.9700     0.7894\n",
      "17            90      0.9701     0.7899\n",
      "18            95      0.9703     0.7903\n",
      "19           100      0.9702     0.7907\n",
      "20           105      0.9702     0.7907\n",
      "21           110      0.9705     0.7908\n",
      "22           115      0.9706     0.7911\n",
      "23           120      0.9706     0.7915\n",
      "24           125      0.9704     0.7917\n",
      "25           130      0.9706     0.7920\n",
      "26           135      0.9707     0.7922\n",
      "27           140      0.9708     0.7916\n",
      "28           145      0.9707     0.7914\n",
      "29           150      0.9707     0.7916\n"
     ]
    },
    {
     "data": {
      "image/png": "[encoded data removed]",
      "text/plain": [
       "<Figure size 576x216 with 1 Axes>"
      ]
     },
     "metadata": {
      "needs_background": "light"
     },
     "output_type": "display_data"
    }
   ],
   "source": [
    "n_estimator_min = 1\n",
    "n_estimator_max = 31\n",
    "optimi_estimator(algorithm,algorithm_name,\n",
    "                x_train,y_train,x_test,y_test,\n",
    "                n_estimator_min,n_estimator_max)"
   ]
  },
  {
   "cell_type": "code",
   "execution_count": 73,
   "id": "196586d1",
   "metadata": {},
   "outputs": [
    {
     "name": "stdout",
     "output_type": "stream",
     "text": [
      "학습 데이터셋 정확도: 0.97\n",
      "테스트 데이터셋 정확도: 0.791\n"
     ]
    },
    {
     "data": {
      "text/plain": [
       "(0.97, 0.791)"
      ]
     },
     "execution_count": 73,
     "metadata": {},
     "output_type": "execute_result"
    }
   ],
   "source": [
    "modeling_uncustomized (algorithm, x_train, y_train, x_test, y_test)"
   ]
  },
  {
   "cell_type": "code",
   "execution_count": 45,
   "id": "71768d41",
   "metadata": {},
   "outputs": [],
   "source": [
    "n_estimator=30"
   ]
  },
  {
   "cell_type": "code",
   "execution_count": 46,
   "id": "ed12ccad",
   "metadata": {},
   "outputs": [
    {
     "name": "stdout",
     "output_type": "stream",
     "text": [
      "    depth  TrainScore  TestScore\n",
      "0       1      0.6683     0.6574\n",
      "1       2      0.7898     0.7871\n",
      "2       3      0.8109     0.7990\n",
      "3       4      0.8308     0.8003\n",
      "4       5      0.8529     0.7981\n",
      "5       6      0.8761     0.7981\n",
      "6       7      0.8989     0.7956\n",
      "7       8      0.9175     0.7927\n",
      "8       9      0.9325     0.7899\n",
      "9      10      0.9445     0.7878\n",
      "10     11      0.9528     0.7851\n",
      "11     12      0.9586     0.7873\n",
      "12     13      0.9625     0.7879\n",
      "13     14      0.9646     0.7861\n",
      "14     15      0.9662     0.7860\n",
      "15     16      0.9665     0.7873\n",
      "16     17      0.9667     0.7852\n",
      "17     18      0.9669     0.7821\n",
      "18     19      0.9674     0.7819\n",
      "19     20      0.9672     0.7847\n"
     ]
    },
    {
     "data": {
      "image/png": "[encoded data removed]",
      "text/plain": [
       "<Figure size 432x288 with 1 Axes>"
      ]
     },
     "metadata": {
      "needs_background": "light"
     },
     "output_type": "display_data"
    }
   ],
   "source": [
    "depth_min = 1\n",
    "depth_max = 21\n",
    "optimi_maxdepth(algorithm,algorithm_name,\n",
    "                x_train,y_train,x_test,y_test,\n",
    "                depth_min,depth_max,n_estimator)"
   ]
  },
  {
   "cell_type": "code",
   "execution_count": 47,
   "id": "7ebbf884",
   "metadata": {},
   "outputs": [],
   "source": [
    "n_depth = 4"
   ]
  },
  {
   "cell_type": "code",
   "execution_count": 48,
   "id": "34f45059",
   "metadata": {
    "scrolled": false
   },
   "outputs": [
    {
     "name": "stdout",
     "output_type": "stream",
     "text": [
      "    min_samples_split  TrainScore  TestScore\n",
      "0                   2      0.8308     0.8003\n",
      "1                   4      0.8306     0.8003\n",
      "2                   6      0.8305     0.8002\n",
      "3                   8      0.8305     0.8002\n",
      "4                  10      0.8305     0.8002\n",
      "5                  12      0.8305     0.8002\n",
      "6                  14      0.8305     0.8002\n",
      "7                  16      0.8305     0.8002\n",
      "8                  18      0.8300     0.8001\n",
      "9                  20      0.8300     0.8001\n",
      "10                 22      0.8298     0.8000\n",
      "11                 24      0.8296     0.8001\n",
      "12                 26      0.8294     0.8002\n",
      "13                 28      0.8293     0.8002\n",
      "14                 30      0.8293     0.8002\n",
      "15                 32      0.8293     0.8002\n",
      "16                 34      0.8293     0.8003\n",
      "17                 36      0.8290     0.8005\n",
      "18                 38      0.8290     0.8005\n",
      "19                 40      0.8288     0.8005\n",
      "20                 42      0.8288     0.8005\n",
      "21                 44      0.8288     0.8005\n",
      "22                 46      0.8287     0.8004\n",
      "23                 48      0.8285     0.8004\n",
      "24                 50      0.8285     0.8004\n",
      "25                 52      0.8284     0.8004\n",
      "26                 54      0.8284     0.8003\n",
      "27                 56      0.8281     0.8005\n",
      "28                 58      0.8275     0.8003\n",
      "29                 60      0.8275     0.8003\n",
      "30                 62      0.8275     0.8003\n",
      "31                 64      0.8273     0.8003\n",
      "32                 66      0.8272     0.8003\n",
      "33                 68      0.8270     0.8004\n",
      "34                 70      0.8265     0.8002\n",
      "35                 72      0.8259     0.8010\n",
      "36                 74      0.8255     0.8008\n",
      "37                 76      0.8249     0.8007\n",
      "38                 78      0.8247     0.8009\n",
      "39                 80      0.8242     0.8008\n",
      "40                 82      0.8238     0.8007\n",
      "41                 84      0.8233     0.8007\n",
      "42                 86      0.8233     0.8007\n",
      "43                 88      0.8232     0.8008\n",
      "44                 90      0.8227     0.8010\n",
      "45                 92      0.8226     0.8011\n",
      "46                 94      0.8224     0.8012\n",
      "47                 96      0.8219     0.8015\n",
      "48                 98      0.8215     0.8013\n",
      "49                100      0.8210     0.8012\n",
      "50                102      0.8206     0.8014\n",
      "51                104      0.8204     0.8014\n",
      "52                106      0.8200     0.8014\n",
      "53                108      0.8192     0.8014\n",
      "54                110      0.8188     0.8013\n",
      "55                112      0.8176     0.8009\n",
      "56                114      0.8172     0.8004\n",
      "57                116      0.8169     0.8004\n",
      "58                118      0.8166     0.8005\n",
      "59                120      0.8162     0.8006\n",
      "60                122      0.8156     0.8008\n",
      "61                124      0.8155     0.8007\n",
      "62                126      0.8151     0.8007\n",
      "63                128      0.8147     0.8008\n",
      "64                130      0.8143     0.8005\n",
      "65                132      0.8141     0.8003\n",
      "66                134      0.8137     0.8003\n",
      "67                136      0.8136     0.8000\n",
      "68                138      0.8136     0.8003\n",
      "69                140      0.8134     0.8009\n",
      "70                142      0.8133     0.8009\n",
      "71                144      0.8129     0.8010\n",
      "72                146      0.8127     0.8013\n",
      "73                148      0.8122     0.8011\n",
      "74                150      0.8116     0.8009\n",
      "75                152      0.8116     0.8009\n",
      "76                154      0.8114     0.8007\n",
      "77                156      0.8106     0.8010\n",
      "78                158      0.8099     0.8009\n",
      "79                160      0.8095     0.8011\n",
      "80                162      0.8087     0.8008\n",
      "81                164      0.8082     0.8012\n",
      "82                166      0.8077     0.8010\n",
      "83                168      0.8077     0.8010\n",
      "84                170      0.8071     0.8007\n",
      "85                172      0.8067     0.8005\n",
      "86                174      0.8066     0.8006\n",
      "87                176      0.8066     0.8006\n",
      "88                178      0.8062     0.8009\n",
      "89                180      0.8059     0.8006\n",
      "90                182      0.8058     0.8006\n",
      "91                184      0.8057     0.8006\n",
      "92                186      0.8057     0.8004\n",
      "93                188      0.8049     0.8001\n",
      "94                190      0.8044     0.8002\n",
      "95                192      0.8041     0.7999\n",
      "96                194      0.8038     0.8001\n",
      "97                196      0.8036     0.8001\n",
      "98                198      0.8028     0.7997\n",
      "99                200      0.8023     0.7996\n"
     ]
    },
    {
     "data": {
      "image/png": "[encoded data removed]",
      "text/plain": [
       "<Figure size 432x288 with 1 Axes>"
      ]
     },
     "metadata": {
      "needs_background": "light"
     },
     "output_type": "display_data"
    }
   ],
   "source": [
    "n_split_min = 1\n",
    "n_split_max = 101\n",
    "pd.set_option('display.max_row',100)\n",
    "optimi_minsplit(algorithm,algorithm_name,\n",
    "               x_train,y_train,x_test,y_test,\n",
    "               n_split_min,n_split_max,n_estimator,n_depth)"
   ]
  },
  {
   "cell_type": "code",
   "execution_count": 49,
   "id": "c8368371",
   "metadata": {},
   "outputs": [],
   "source": [
    "n_split = 200"
   ]
  },
  {
   "cell_type": "code",
   "execution_count": 52,
   "id": "4b6c0d31",
   "metadata": {},
   "outputs": [
    {
     "name": "stdout",
     "output_type": "stream",
     "text": [
      "    min_samples_leaf  TrainScore  TestScore\n",
      "0                  2      0.8023     0.7996\n",
      "1                  4      0.8023     0.7996\n",
      "2                  6      0.8023     0.7996\n",
      "3                  8      0.8023     0.7997\n",
      "4                 10      0.8023     0.7997\n",
      "5                 12      0.8023     0.7997\n",
      "6                 14      0.8023     0.7997\n",
      "7                 16      0.8023     0.7997\n",
      "8                 18      0.8023     0.7997\n",
      "9                 20      0.8023     0.7997\n",
      "10                22      0.8022     0.7997\n",
      "11                24      0.8022     0.7997\n",
      "12                26      0.8022     0.7997\n",
      "13                28      0.8022     0.7997\n",
      "14                30      0.8022     0.7997\n",
      "15                32      0.8022     0.7997\n",
      "16                34      0.8022     0.7997\n",
      "17                36      0.8022     0.7997\n",
      "18                38      0.8022     0.7997\n",
      "19                40      0.8022     0.7997\n",
      "20                42      0.8022     0.7997\n",
      "21                44      0.8022     0.7997\n",
      "22                46      0.8022     0.7997\n",
      "23                48      0.8022     0.7998\n",
      "24                50      0.8022     0.7998\n",
      "25                52      0.8021     0.7999\n",
      "26                54      0.8020     0.8001\n",
      "27                56      0.8020     0.8001\n",
      "28                58      0.8018     0.8000\n",
      "29                60      0.8018     0.8001\n",
      "30                62      0.8018     0.8002\n",
      "31                64      0.8019     0.8004\n",
      "32                66      0.8019     0.8004\n",
      "33                68      0.8019     0.8004\n",
      "34                70      0.8019     0.8004\n",
      "35                72      0.8017     0.8003\n",
      "36                74      0.8016     0.8004\n",
      "37                76      0.8017     0.8006\n",
      "38                78      0.8016     0.8005\n",
      "39                80      0.8016     0.8006\n",
      "40                82      0.8016     0.8007\n",
      "41                84      0.8014     0.8008\n",
      "42                86      0.8013     0.8006\n",
      "43                88      0.8012     0.8007\n",
      "44                90      0.8011     0.8007\n",
      "45                92      0.8011     0.8009\n",
      "46                94      0.8011     0.8013\n",
      "47                96      0.8002     0.8014\n",
      "48                98      0.7999     0.8014\n",
      "49               100      0.7998     0.8013\n"
     ]
    },
    {
     "data": {
      "image/png": "[encoded data removed]",
      "text/plain": [
       "<Figure size 432x288 with 1 Axes>"
      ]
     },
     "metadata": {
      "needs_background": "light"
     },
     "output_type": "display_data"
    }
   ],
   "source": [
    "n_leaf_min=1\n",
    "n_leaf_max = 51\n",
    "optimi_minleaf(algorithm,algorithm_name,\n",
    "              x_train,y_train,x_test,y_test,\n",
    "              n_leaf_min,n_leaf_max,n_estimator,n_depth,n_split)"
   ]
  },
  {
   "cell_type": "code",
   "execution_count": 53,
   "id": "bb257d74",
   "metadata": {},
   "outputs": [],
   "source": [
    "n_leaf = 92"
   ]
  },
  {
   "cell_type": "code",
   "execution_count": 37,
   "id": "a80907c6",
   "metadata": {},
   "outputs": [],
   "source": [
    "from sklearn.metrics import mean_squared_error"
   ]
  },
  {
   "cell_type": "code",
   "execution_count": 54,
   "id": "3b6448c5",
   "metadata": {},
   "outputs": [
    {
     "name": "stdout",
     "output_type": "stream",
     "text": [
      "Mean Squared Error: 0.011\n",
      "      y_test  y_pred\n",
      "772   0.6611  0.7618\n",
      "947   0.0339  0.1295\n",
      "1551  0.2799  0.2568\n",
      "1656  0.0921  0.1885\n",
      "28    0.3609  0.2802\n",
      "...      ...     ...\n",
      "302   0.5557  0.6852\n",
      "1179  0.3960  0.4769\n",
      "909   0.1503  0.1693\n",
      "1628  0.6212  0.5852\n",
      "98    0.7073  0.7618\n",
      "\n",
      "[548 rows x 2 columns]\n"
     ]
    }
   ],
   "source": [
    "model_final(algorithm,algorithm_name,\n",
    "           x_train,y_train,x_test,y_test,\n",
    "           n_estimator,n_depth,n_split,n_leaf)"
   ]
  },
  {
   "cell_type": "code",
   "execution_count": 59,
   "id": "723ebce7",
   "metadata": {},
   "outputs": [],
   "source": [
    "def modeling_uncustomized (algorithm,x_train,y_train,x_test,y_test):\n",
    "    uncustomized = algorithm(random_state =1234)\n",
    "    uncustomized.fit(x_train,y_train)\n",
    "    train_score_before = mean_squared_error(x_train,y_train).round(3)\n",
    "    print(f\"학습 데이터셋 정확도 :{train_score_before}\")\n",
    "    test_score_before =mean_squared_error(x_test,y_test).round(3)\n",
    "    return train_score_before,test_score_before"
   ]
  },
  {
   "cell_type": "code",
   "execution_count": 62,
   "id": "588f0aae",
   "metadata": {},
   "outputs": [
    {
     "name": "stdout",
     "output_type": "stream",
     "text": [
      "학습 데이터셋 정확도: 0.002\n",
      "테스트 데이터셋 정확도: 0.012\n"
     ]
    },
    {
     "data": {
      "text/plain": [
       "(0.002, 0.012)"
      ]
     },
     "execution_count": 62,
     "metadata": {},
     "output_type": "execute_result"
    }
   ],
   "source": [
    "modeling_uncustomized (algorithm, x_train, y_train, x_test, y_test)"
   ]
  },
  {
   "cell_type": "code",
   "execution_count": 64,
   "id": "3c7bfbc1",
   "metadata": {},
   "outputs": [
    {
     "name": "stdout",
     "output_type": "stream",
     "text": [
      "학습 데이터셋 정확도: 0.012\n",
      "테스트 데이터셋 정확도: 0.011\n"
     ]
    },
    {
     "data": {
      "text/plain": [
       "(0.012, 0.011)"
      ]
     },
     "execution_count": 64,
     "metadata": {},
     "output_type": "execute_result"
    }
   ],
   "source": [
    "modeling_customized (algorithm, x_train, y_train, x_test, y_test)"
   ]
  },
  {
   "cell_type": "code",
   "execution_count": 61,
   "id": "12e220a4",
   "metadata": {},
   "outputs": [],
   "source": [
    "def modeling_uncustomized(algorithm, x_train, y_train, x_test, y_test):\n",
    "    uncustomized = algorithm(random_state=1234)\n",
    "    uncustomized.fit(x_train, y_train)\n",
    "    \n",
    "    # 모델 예측\n",
    "    y_pred_train = uncustomized.predict(x_train)\n",
    "    y_pred_test = uncustomized.predict(x_test)\n",
    "    \n",
    "    # 평가 지표 계산\n",
    "    train_score_before = mean_squared_error(y_train, y_pred_train).round(3)\n",
    "    test_score_before = mean_squared_error(y_test, y_pred_test).round(3)\n",
    "    \n",
    "    print(f\"학습 데이터셋 정확도: {train_score_before}\")\n",
    "    print(f\"테스트 데이터셋 정확도: {test_score_before}\")\n",
    "    \n",
    "    return train_score_before, test_score_before\n"
   ]
  },
  {
   "cell_type": "code",
   "execution_count": 63,
   "id": "57793df1",
   "metadata": {},
   "outputs": [],
   "source": [
    "def modeling_customized(algorithm, x_train, y_train, x_test, y_test):\n",
    "    uncustomized = algorithm(random_state=1234,\n",
    "                             n_estimators=30,\n",
    "                             max_depth=4,\n",
    "                             min_samples_split=200,\n",
    "                             min_samples_leaf=92)\n",
    "    uncustomized.fit(x_train, y_train)\n",
    "    \n",
    "    # 모델 예측\n",
    "    y_pred_train = uncustomized.predict(x_train)\n",
    "    y_pred_test = uncustomized.predict(x_test)\n",
    "    \n",
    "    # 평가 지표 계산\n",
    "    train_score_before = mean_squared_error(y_train, y_pred_train).round(3)\n",
    "    test_score_before = mean_squared_error(y_test, y_pred_test).round(3)\n",
    "    \n",
    "    print(f\"학습 데이터셋 정확도: {train_score_before}\")\n",
    "    print(f\"테스트 데이터셋 정확도: {test_score_before}\")\n",
    "    \n",
    "    return train_score_before, test_score_before\n"
   ]
  },
  {
   "cell_type": "code",
   "execution_count": null,
   "id": "ac092126",
   "metadata": {},
   "outputs": [],
   "source": []
  }
 ],
 "metadata": {
  "kernelspec": {
   "display_name": "Python 3 (ipykernel)",
   "language": "python",
   "name": "python3"
  },
  "language_info": {
   "codemirror_mode": {
    "name": "ipython",
    "version": 3
   },
   "file_extension": ".py",
   "mimetype": "text/x-python",
   "name": "python",
   "nbconvert_exporter": "python",
   "pygments_lexer": "ipython3",
   "version": "3.9.12"
  }
 },
 "nbformat": 4,
 "nbformat_minor": 5
}
